{
 "cells": [
  {
   "cell_type": "code",
   "execution_count": 1,
   "metadata": {
    "collapsed": false
   },
   "outputs": [
    {
     "name": "stdout",
     "output_type": "stream",
     "text": [
      "Cloning into 'mlhep2016'...\n",
      "remote: Counting objects: 345, done.\u001b[K\n",
      "remote: Compressing objects: 100% (83/83), done.\u001b[K\n",
      "remote: Total 345 (delta 24), reused 0 (delta 0), pack-reused 259\u001b[K\n",
      "Receiving objects: 100% (345/345), 155.30 MiB | 11.82 MiB/s, done.\n",
      "Resolving deltas: 100% (127/127), done.\n",
      "Checking connectivity... done.\n"
     ]
    }
   ],
   "source": [
    "!git clone http://github.com/yandexdataschool/mlhep2016"
   ]
  },
  {
   "cell_type": "code",
   "execution_count": null,
   "metadata": {
    "collapsed": false
   },
   "outputs": [
    {
     "name": "stdout",
     "output_type": "stream",
     "text": [
      "remote: Counting objects: 106, done.\u001b[K\n",
      "remote: Compressing objects: 100% (83/83), done.\u001b[K\n",
      "remote: Total 106 (delta 30), reused 6 (delta 6), pack-reused 14\u001b[K\n",
      "Receiving objects: 100% (106/106), 18.94 MiB | 3.86 MiB/s, done.\n",
      "Resolving deltas: 100% (31/31), completed with 2 local objects.\n",
      "From https://github.com/yandexdataschool/mlhep2016\n",
      "   88644db..e214fa4  master     -> origin/master\n",
      "\u001b[2J\u001b[?47l\u001b8\u001b7\u001b[?47h\u001b[?1001s\u001b[?1002h\u001b[?1006h\u001b[?2004h\u001b7\u001b[?47h\u001b[1;24r\u001b[4l\u001b[?1h\u001b=\u001b[m\u001b[39m\u001b[49m\u001b[1;24r\u001b[H\u001b[2J\u001b[1;1H\u001b[30m\u001b[46mMERGE_MSG          [----]  0 L:[  1+ 0   1/  8] *(0   / 298b)   77 0x04D  [*][X]\u001b[2;1H\u001b[37m\u001b[44mMerge branch 'master' of https://github.com/yandexdataschool/mlhep2016          \u001b[3;1H                                                                                \u001b[4;1H# Please enter a commit message to explain why this merge is necessary,         \u001b[5;1H# especially if it merges an updated upstream into a topic branch.              \u001b[6;1H#                                                                               \u001b[7;1H# Lines starting with '#' will be ignored, and an empty message aborts          \u001b[8;1H# the commit.                                                                   \u001b[9;1H                                                                                \u001b[10;1H                                                                                \u001b[11;1H                                                                                \u001b[12;1H                                                                                \u001b[13;1H                                                                                \u001b[14;1H                                                                                \u001b[15;1H                                                                                \u001b[16;1H                                                                                \u001b[17;1H                                                                                \u001b[18;1H                                                                                \u001b[19;1H                                                                                \u001b[20;1H                                                                                \u001b[21;1H                                                                                \u001b[22;1H                                                                                \u001b[23;1H                                                                                \u001b[24;1H\u001b[1m\u001b[37m\u001b[40m 1\u001b[m\u001b[30m\u001b[46mHelp  \u001b[1m\u001b[37m\u001b[40m 2\u001b[m\u001b[30m\u001b[46mSave  \u001b[1m\u001b[37m\u001b[40m 3\u001b[m\u001b[30m\u001b[46mMark  \u001b[1m\u001b[37m\u001b[40m 4\u001b[m\u001b[30m\u001b[46mReplac\u001b[1m\u001b[37m\u001b[40m 5\u001b[m\u001b[30m\u001b[46mCopy  \u001b[1m\u001b[37m\u001b[40m 6\u001b[m\u001b[30m\u001b[46mMove  \u001b[1m\u001b[37m\u001b[40m 7\u001b[m\u001b[30m\u001b[46mSearch\u001b[1m\u001b[37m\u001b[40m 8\u001b[m\u001b[30m\u001b[46mDelete\u001b[1m\u001b[37m\u001b[40m 9\u001b[m\u001b[30m\u001b[46mPullDn\u001b[1m\u001b[37m\u001b[40m10\u001b[m\u001b[30m\u001b[46mQuit \u001b[24;79H \b\u001b[4h \u001b[4l\u001b[2;1H"
     ]
    }
   ],
   "source": [
    "!git pull"
   ]
  },
  {
   "cell_type": "code",
   "execution_count": null,
   "metadata": {
    "collapsed": true
   },
   "outputs": [],
   "source": []
  }
 ],
 "metadata": {
  "kernelspec": {
   "display_name": "Python 2",
   "language": "python",
   "name": "python2"
  },
  "language_info": {
   "codemirror_mode": {
    "name": "ipython",
    "version": 2
   },
   "file_extension": ".py",
   "mimetype": "text/x-python",
   "name": "python",
   "nbconvert_exporter": "python",
   "pygments_lexer": "ipython2",
   "version": "2.7.11"
  }
 },
 "nbformat": 4,
 "nbformat_minor": 0
}
