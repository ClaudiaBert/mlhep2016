{
 "cells": [
  {
   "cell_type": "code",
   "execution_count": null,
   "metadata": {
    "collapsed": false
   },
   "outputs": [],
   "source": [
    "ROOT_EXAMPLE_FILE = \"public_train_10000.root\""
   ]
  },
  {
   "cell_type": "markdown",
   "metadata": {},
   "source": [
    "# Read the data\n",
    "* Here we repeat the exact same code as in root_numpy tutorial"
   ]
  },
  {
   "cell_type": "code",
   "execution_count": null,
   "metadata": {
    "collapsed": false
   },
   "outputs": [],
   "source": [
    "import root_numpy\n",
    "import numpy as np\n",
    "root2array_example = root_numpy.root2array(ROOT_EXAMPLE_FILE)\n",
    "data = np.array(map(list,root2array_example))"
   ]
  },
  {
   "cell_type": "code",
   "execution_count": null,
   "metadata": {
    "collapsed": false
   },
   "outputs": [],
   "source": [
    "# get field names. Not the most comfortable way. We'll deal with it later.\n",
    "columns = zip(*root2array_example.dtype.descr)[0]\n",
    "print columns"
   ]
  },
  {
   "cell_type": "markdown",
   "metadata": {},
   "source": [
    "# Visualizing with matplotlib\n",
    "Matplotlib is a library for data visualiztion.\n",
    "\n",
    "It features quick and simple interfaces for basic problems (e.g. plot histogram) while still allowing for full customization on demand.\n",
    "\n",
    "In this notebook we shall cover common use cases applied to HEP data we have just loaded"
   ]
  },
  {
   "cell_type": "code",
   "execution_count": null,
   "metadata": {
    "collapsed": true
   },
   "outputs": [],
   "source": [
    "# import the library\n",
    "import matplotlib.pyplot as plt\n",
    "# display plots right inside notebook (not in a popup window)\n",
    "%matplotlib inline"
   ]
  },
  {
   "cell_type": "markdown",
   "metadata": {},
   "source": [
    "# Line plot\n",
    "\n",
    "* You provide X and Y of points, matplotlib connects them in a line"
   ]
  },
  {
   "cell_type": "code",
   "execution_count": null,
   "metadata": {
    "collapsed": false
   },
   "outputs": [],
   "source": [
    "plt.plot([0,1,2,3,4,5],[0,1,4,9,16,25])"
   ]
  },
  {
   "cell_type": "markdown",
   "metadata": {},
   "source": [
    "\n",
    "One use case is displaying empirical CDF of a variable\n",
    "* Calling several .plot functions in a signle tab results in a combined plot\n",
    "* This is also true for other matplotlib figures."
   ]
  },
  {
   "cell_type": "code",
   "execution_count": null,
   "metadata": {
    "collapsed": false
   },
   "outputs": [],
   "source": [
    "#a range of numbers from 1 to N as X axis\n",
    "x = range(len(data))\n",
    "\n",
    "# 3rd column = lepton_pt\n",
    "y1 = sorted(data[:,columns.index('lepton_pt')])\n",
    "# 5th column = mem_pt\n",
    "y2 = sorted(data[:,columns.index('mem_pt')])\n",
    "\n",
    "plt.plot( x, y1 )\n",
    "plt.plot( x, y2 )"
   ]
  },
  {
   "cell_type": "markdown",
   "metadata": {},
   "source": [
    "# Do It Yourself\n",
    "Following the example above, plot similar quasi-Cumulative Distribution Functions over the following variables\n",
    " * lepton eta\n",
    " * jet1_eta\n",
    " * jet2_eta\n"
   ]
  },
  {
   "cell_type": "code",
   "execution_count": null,
   "metadata": {
    "collapsed": false
   },
   "outputs": [],
   "source": [
    "#make up a code similar to one above in order to compare CDFs for 'eta's "
   ]
  },
  {
   "cell_type": "markdown",
   "metadata": {},
   "source": [
    "# Scatter plot\n",
    "\n",
    "* Takes X and Y just like .plot, but does not connect the dots with lines.\n",
    "* Useful to explore data structure\n",
    "* Note that plots can also have some customizations: color, opacity, title, etc.\n",
    "  * Press shift+Tab with text cursor on a function to see details\n",
    "  * for more information, press shift+Tab+Tab and so on"
   ]
  },
  {
   "cell_type": "code",
   "execution_count": null,
   "metadata": {
    "collapsed": true
   },
   "outputs": [],
   "source": [
    "x = data[:,columns.index('lepton_pt')]\n",
    "y = data[:,columns.index('lepton_eta')]\n",
    "color = data[:,columns.index('target')]"
   ]
  },
  {
   "cell_type": "code",
   "execution_count": null,
   "metadata": {
    "collapsed": false
   },
   "outputs": [],
   "source": [
    "# A terrible plot\n",
    "plt.scatter(x,y, c = color)"
   ]
  },
  {
   "cell_type": "code",
   "execution_count": null,
   "metadata": {
    "collapsed": false
   },
   "outputs": [],
   "source": [
    "# A better plot with title and colorbar\n",
    "plt.title(\"lepton Pt against Eta,\\n red = signal and blue = background\")\n",
    "plt.scatter(x,y,\n",
    "            c = color,\n",
    "            alpha = 0.5)\n",
    "plt.colorbar()"
   ]
  },
  {
   "cell_type": "code",
   "execution_count": null,
   "metadata": {
    "collapsed": false
   },
   "outputs": [],
   "source": [
    "# An even better (or worse) plot\n",
    "\n",
    "#set figure size\n",
    "plt.figure(figsize=[16,8])\n",
    "\n",
    "plt.title(\"lepton Pt against Eta\")\n",
    "plt.scatter(x,y,\n",
    "            c = data[:,columns.index('target')],\n",
    "            alpha = 0.5)\n",
    "plt.colorbar()\n",
    "\n",
    "#set axis labels\n",
    "plt.xlabel('lepton pt, arb. units')\n",
    "plt.ylabel('lepton eta, radians')\n",
    "\n",
    "#set axis limits\n",
    "plt.xlim(10,400)\n",
    "\n"
   ]
  },
  {
   "cell_type": "markdown",
   "metadata": {},
   "source": [
    "# Do It Yourself\n",
    "Create a scatter-plot of jet1_pt against jet2_pt.\n",
    "\n",
    "Your plot must contain axis labels and a title, because HEP."
   ]
  },
  {
   "cell_type": "code",
   "execution_count": null,
   "metadata": {
    "collapsed": false
   },
   "outputs": [],
   "source": [
    "<your code>"
   ]
  },
  {
   "cell_type": "markdown",
   "metadata": {},
   "source": [
    "# Histogram\n",
    "* just a regular 1-dimensional or 2-dimensional histogram\n",
    "* bins is an important parameter"
   ]
  },
  {
   "cell_type": "code",
   "execution_count": null,
   "metadata": {
    "collapsed": false
   },
   "outputs": [],
   "source": [
    "_ = plt.hist(data[:,columns.index('lepton_pt')])\n",
    "\n",
    "#this means \"Display current figure and start a NEW one\"\n",
    "plt.show()\n",
    "\n",
    "#more bins\n",
    "_ = plt.hist(data[:,columns.index('lepton_pt')],bins=100)\n"
   ]
  },
  {
   "cell_type": "code",
   "execution_count": null,
   "metadata": {
    "collapsed": false
   },
   "outputs": [],
   "source": [
    "# 2d hist\n",
    "x = data[:,columns.index('lepton_pt')]\n",
    "y = data[:,columns.index('lepton_eta')]\n",
    "_ = plt.hist2d(x,y, bins=[30,30])"
   ]
  },
  {
   "cell_type": "markdown",
   "metadata": {},
   "source": [
    "# Do It Yourself\n",
    "\n",
    "* Plot 3 histograms lepton_pt, lepton_phi and lepton_eta.\n",
    "  * Histograms must be created at the same tab, and displayed on a different successive figures\n",
    "* Finally, plot a 2d histogram of lepton_phi VS lepton_eta\n",
    "  * Try 10x10, 100x100 and 1000x1000 bins\n",
    "\n",
    "\n",
    "\n",
    "\n",
    "\n"
   ]
  },
  {
   "cell_type": "code",
   "execution_count": null,
   "metadata": {
    "collapsed": false
   },
   "outputs": [],
   "source": [
    "#1D histograms\n",
    "<your code>"
   ]
  },
  {
   "cell_type": "code",
   "execution_count": null,
   "metadata": {
    "collapsed": true
   },
   "outputs": [],
   "source": [
    "#2D histograms\n",
    "<your code>"
   ]
  }
 ],
 "metadata": {
  "kernelspec": {
   "display_name": "Python 2",
   "language": "python",
   "name": "python2"
  },
  "language_info": {
   "codemirror_mode": {
    "name": "ipython",
    "version": 2
   },
   "file_extension": ".py",
   "mimetype": "text/x-python",
   "name": "python",
   "nbconvert_exporter": "python",
   "pygments_lexer": "ipython2",
   "version": "2.7.6"
  }
 },
 "nbformat": 4,
 "nbformat_minor": 0
}
