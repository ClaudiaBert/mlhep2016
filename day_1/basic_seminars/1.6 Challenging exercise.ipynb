{
 "cells": [
  {
   "cell_type": "markdown",
   "metadata": {},
   "source": [
    "# Build a model to separate decays\n",
    "With the tools we've learned it's possible to build a multivariate statistical model for the Kaggle challenge.\n",
    "1. Separate the dataset into a training and test parts. I suggest using public_train_100000.root , but you are free to experiment.\n",
    "2. Fit kernel separate density estimators for signala and background events on the training part. It has quite a few dimensions - you probably should try to find some good combination of features. I suggest you try something from this list: [u'm_jj', u'm_bb', u'm_wbb', u'm_jlv'] - its origin will be explained in the day 3.\n",
    "3. For each element in the test set calculate the signal and background probabilitis - use them to get some single score whether the event is signal.\n",
    "4. Compure ROC AUC evaluation of your prediction. I suggest using sklearn.metrics.roc_auc_score"
   ]
  }
 ],
 "metadata": {
  "kernelspec": {
   "display_name": "Python 2",
   "language": "python",
   "name": "python2"
  },
  "language_info": {
   "codemirror_mode": {
    "name": "ipython",
    "version": 2
   },
   "file_extension": ".py",
   "mimetype": "text/x-python",
   "name": "python",
   "nbconvert_exporter": "python",
   "pygments_lexer": "ipython2",
   "version": "2.7.11"
  }
 },
 "nbformat": 4,
 "nbformat_minor": 0
}
